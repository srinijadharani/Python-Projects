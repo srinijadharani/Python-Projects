{
 "cells": [
  {
   "cell_type": "markdown",
   "id": "23184322",
   "metadata": {},
   "source": [
    "# MNIST\n",
    "\n",
    "MNIST stands for Modified National Institue of Standards and Technology\n",
    "\n",
    "The MNIST database of handwritten digits has a training set of 60,000 examples of digits and a test set of 10,000 examples of digits. It is a subset of a larger set available from NIST. The digits have been size-normalized and centered in a fixed-size image.\n",
    "\n",
    "The original black and white (bilevel) images from NIST were size normalized to fit in a 20x20 pixel box while preserving their aspect ratio. The resulting images contain grey levels as a result of the anti-aliasing technique used by the normalization algorithm. the images were centered in a 28x28 image by computing the center of mass of the pixels, and translating the image so as to position this point at the center of the 28x28 field.\n",
    "\n",
    "For reference, see: http://yann.lecun.com/exdb/mnist/\n"
   ]
  },
  {
   "cell_type": "code",
   "execution_count": 1,
   "id": "66b7e5f4",
   "metadata": {},
   "outputs": [],
   "source": [
    "# IMPORTS\n",
    "import tensorflow as tf\n",
    "import matplotlib.pyplot as plt\n",
    "\n",
    "import numpy as np\n",
    "from tensorflow import keras\n",
    "from tensorflow.keras import layers, models\n",
    "from keras.utils.np_utils import to_categorical\n",
    "\n",
    "from keras.models import Sequential\n",
    "from keras.layers import Dense, Conv2D, MaxPool2D, Flatten\n",
    "\n",
    "from sklearn.metrics import classification_report\n",
    "\n",
    "from keras.datasets import mnist"
   ]
  },
  {
   "cell_type": "code",
   "execution_count": 2,
   "id": "467bc3d0",
   "metadata": {},
   "outputs": [],
   "source": [
    "# LOADING DATA INTO TRAIN AND TEST SETS\n",
    "\n",
    "(x_train, y_train), (x_test, y_test) = mnist.load_data()"
   ]
  },
  {
   "cell_type": "code",
   "execution_count": 3,
   "id": "56f2a790",
   "metadata": {},
   "outputs": [
    {
     "data": {
      "text/plain": [
       "<matplotlib.image.AxesImage at 0x1e7fffd8b50>"
      ]
     },
     "execution_count": 3,
     "metadata": {},
     "output_type": "execute_result"
    },
    {
     "data": {
      "image/png": "[encoded data removed]",
      "text/plain": [
       "<Figure size 432x288 with 1 Axes>"
      ]
     },
     "metadata": {
      "needs_background": "light"
     },
     "output_type": "display_data"
    }
   ],
   "source": [
    "# VISUALIZING DATA\n",
    "\n",
    "plt.imshow(x_train[7], cmap = \"gray\")"
   ]
  },
  {
   "cell_type": "code",
   "execution_count": 4,
   "id": "8aa3af2c",
   "metadata": {},
   "outputs": [],
   "source": [
    "# LABELS (Y) NEED TO BE ONE-HOT ENCODED SO CNN WOULD UNDERSTAND\n",
    "\n",
    "y_cat_train = to_categorical(y_train, 10)\n",
    "y_cat_test = to_categorical(y_test, 10)"
   ]
  },
  {
   "cell_type": "code",
   "execution_count": 5,
   "id": "0031462b",
   "metadata": {},
   "outputs": [],
   "source": [
    "# NORMALIZING DATA (X) TO MAKE IT EASIER FOR PROCESSING\n",
    "\n",
    "x_train = x_train/255\n",
    "x_test = x_test/255"
   ]
  },
  {
   "cell_type": "code",
   "execution_count": 6,
   "id": "ab054a9e",
   "metadata": {},
   "outputs": [
    {
     "data": {
      "text/plain": [
       "(60000, 28, 28)"
      ]
     },
     "execution_count": 6,
     "metadata": {},
     "output_type": "execute_result"
    }
   ],
   "source": [
    "x_train.shape"
   ]
  },
  {
   "cell_type": "code",
   "execution_count": 7,
   "id": "49232174",
   "metadata": {},
   "outputs": [],
   "source": [
    "# THE CNN NEEDS TO KNOW THAT WE ARE DEALING WITH 1 RGB CHANNEL - BLACK AND \n",
    "# WHITE IMAGES. SO WE NEED TO ADD ANOTHER DIMENSION TO BOTH X_TRAIN AND X_TEST\n",
    "\n",
    "x_train = x_train.reshape(60000, 28, 28, 1)\n",
    "x_test = x_test.reshape(10000, 28, 28, 1)"
   ]
  },
  {
   "cell_type": "code",
   "execution_count": 8,
   "id": "a7484e27",
   "metadata": {},
   "outputs": [],
   "source": [
    "# TRAINING THE MODEL\n",
    "\n",
    "model = Sequential()"
   ]
  },
  {
   "cell_type": "code",
   "execution_count": 9,
   "id": "62623d9f",
   "metadata": {},
   "outputs": [],
   "source": [
    "# CONVOLUTIONAL LAYER\n",
    "model.add(Conv2D(filters = 32, kernel_size = (4, 4), \n",
    "                 input_shape = (28, 28, 1), activation = \"relu\"))\n",
    "\n",
    "# POOLING LAYER\n",
    "model.add(MaxPool2D(pool_size = (2, 2)))\n",
    "\n",
    "# FLATTEN IMAGES FROM 28 * 28 TO 764 BEFORE THE FINAL LAYER \n",
    "model.add(Flatten())\n",
    "\n",
    "# HIDDEN LAYER - MORE CAN BE ADDED\n",
    "model.add(Dense(128, activation = \"relu\"))\n",
    "\n",
    "# CLASSIFIER - 10 CLASSES (0-9)\n",
    "model.add(Dense(10, activation = \"softmax\"))\n",
    "\n",
    "# MODEL COMPILATION\n",
    "model.compile(loss = \"categorical_crossentropy\", optimizer = \"rmsprop\",\n",
    "             metrics = [\"accuracy\"])"
   ]
  },
  {
   "cell_type": "code",
   "execution_count": 10,
   "id": "a27b22a6",
   "metadata": {},
   "outputs": [
    {
     "name": "stdout",
     "output_type": "stream",
     "text": [
      "Model: \"sequential\"\n",
      "_________________________________________________________________\n",
      "Layer (type)                 Output Shape              Param #   \n",
      "=================================================================\n",
      "conv2d (Conv2D)              (None, 25, 25, 32)        544       \n",
      "_________________________________________________________________\n",
      "max_pooling2d (MaxPooling2D) (None, 12, 12, 32)        0         \n",
      "_________________________________________________________________\n",
      "flatten (Flatten)            (None, 4608)              0         \n",
      "_________________________________________________________________\n",
      "dense (Dense)                (None, 128)               589952    \n",
      "_________________________________________________________________\n",
      "dense_1 (Dense)              (None, 10)                1290      \n",
      "=================================================================\n",
      "Total params: 591,786\n",
      "Trainable params: 591,786\n",
      "Non-trainable params: 0\n",
      "_________________________________________________________________\n"
     ]
    }
   ],
   "source": [
    "model.summary()"
   ]
  },
  {
   "cell_type": "code",
   "execution_count": 11,
   "id": "76559144",
   "metadata": {},
   "outputs": [
    {
     "name": "stdout",
     "output_type": "stream",
     "text": [
      "Epoch 1/5\n",
      "1875/1875 [==============================] - 50s 26ms/step - loss: 0.1355 - accuracy: 0.9583\n",
      "Epoch 2/5\n",
      "1875/1875 [==============================] - 42s 22ms/step - loss: 0.0493 - accuracy: 0.9852\n",
      "Epoch 3/5\n",
      "1875/1875 [==============================] - 42s 22ms/step - loss: 0.0359 - accuracy: 0.9894\n",
      "Epoch 4/5\n",
      "1875/1875 [==============================] - 42s 23ms/step - loss: 0.0281 - accuracy: 0.9916\n",
      "Epoch 5/5\n",
      "1875/1875 [==============================] - 43s 23ms/step - loss: 0.0230 - accuracy: 0.9935\n"
     ]
    },
    {
     "data": {
      "text/plain": [
       "<keras.callbacks.History at 0x1e781f6d130>"
      ]
     },
     "execution_count": 11,
     "metadata": {},
     "output_type": "execute_result"
    }
   ],
   "source": [
    "# FIT THE MODEL WITH 5 (CAN BE CHANGED) EPOCHS\n",
    "\n",
    "model.fit(x_train, y_cat_train, epochs = 5)"
   ]
  },
  {
   "cell_type": "code",
   "execution_count": 12,
   "id": "d901677d",
   "metadata": {},
   "outputs": [
    {
     "data": {
      "text/plain": [
       "['loss', 'accuracy']"
      ]
     },
     "execution_count": 12,
     "metadata": {},
     "output_type": "execute_result"
    }
   ],
   "source": [
    "# LIST THE METRICS AVAILABLE\n",
    "\n",
    "model.metrics_names"
   ]
  },
  {
   "cell_type": "code",
   "execution_count": 13,
   "id": "802560e4",
   "metadata": {},
   "outputs": [
    {
     "name": "stdout",
     "output_type": "stream",
     "text": [
      "313/313 [==============================] - 1s 2ms/step - loss: 0.0433 - accuracy: 0.9881\n"
     ]
    },
    {
     "data": {
      "text/plain": [
       "[0.043305784463882446, 0.988099992275238]"
      ]
     },
     "execution_count": 13,
     "metadata": {},
     "output_type": "execute_result"
    }
   ],
   "source": [
    "# EVALUATE THE MODEL - LOSS AND ACCURACY\n",
    "\n",
    "model.evaluate(x_test, y_cat_test)"
   ]
  },
  {
   "cell_type": "code",
   "execution_count": 14,
   "id": "5823e757",
   "metadata": {},
   "outputs": [],
   "source": [
    "# MAKE PREDICTIONS\n",
    "\n",
    "predictions = model.predict(x_test)"
   ]
  },
  {
   "cell_type": "code",
   "execution_count": 15,
   "id": "b3c82fee",
   "metadata": {},
   "outputs": [
    {
     "data": {
      "text/plain": [
       "array([[2.32432573e-10, 4.30921687e-11, 1.60147930e-08, ...,\n",
       "        9.99999762e-01, 1.85899616e-08, 4.31033307e-08],\n",
       "       [1.45482161e-12, 8.49456416e-09, 1.00000000e+00, ...,\n",
       "        6.28235337e-17, 2.61026378e-12, 3.00120334e-13],\n",
       "       [6.65460504e-08, 9.99854922e-01, 4.41577725e-07, ...,\n",
       "        4.06471263e-05, 3.11492477e-05, 3.64735655e-07],\n",
       "       ...,\n",
       "       [7.05688771e-15, 6.83105572e-09, 8.23888614e-12, ...,\n",
       "        4.08473255e-07, 8.43660109e-06, 7.39322275e-07],\n",
       "       [1.87760051e-12, 4.15634351e-13, 3.79968689e-15, ...,\n",
       "        5.65576774e-14, 1.06520907e-04, 2.92931859e-11],\n",
       "       [6.19069954e-14, 1.08361084e-16, 5.19655289e-14, ...,\n",
       "        1.08162638e-20, 6.22265978e-15, 1.67882322e-15]], dtype=float32)"
      ]
     },
     "execution_count": 15,
     "metadata": {},
     "output_type": "execute_result"
    }
   ],
   "source": [
    "predictions"
   ]
  },
  {
   "cell_type": "code",
   "execution_count": 16,
   "id": "132d5604",
   "metadata": {},
   "outputs": [
    {
     "name": "stdout",
     "output_type": "stream",
     "text": [
      "              precision    recall  f1-score   support\n",
      "\n",
      "           0       0.99      0.99      0.99       980\n",
      "           1       1.00      0.99      0.99      1135\n",
      "           2       0.99      0.99      0.99      1032\n",
      "           3       0.99      0.99      0.99      1010\n",
      "           4       1.00      0.98      0.99       982\n",
      "           5       0.99      0.99      0.99       892\n",
      "           6       0.98      0.99      0.99       958\n",
      "           7       0.99      0.99      0.99      1028\n",
      "           8       0.97      0.99      0.98       974\n",
      "           9       0.99      0.98      0.99      1009\n",
      "\n",
      "   micro avg       0.99      0.99      0.99     10000\n",
      "   macro avg       0.99      0.99      0.99     10000\n",
      "weighted avg       0.99      0.99      0.99     10000\n",
      " samples avg       0.99      0.99      0.99     10000\n",
      "\n"
     ]
    },
    {
     "name": "stderr",
     "output_type": "stream",
     "text": [
      "C:\\Users\\srini\\anaconda3\\envs\\tensorflow\\lib\\site-packages\\sklearn\\metrics\\_classification.py:1327: UndefinedMetricWarning: Precision and F-score are ill-defined and being set to 0.0 in samples with no predicted labels. Use `zero_division` parameter to control this behavior.\n",
      "  _warn_prf(average, modifier, msg_start, len(result))\n"
     ]
    }
   ],
   "source": [
    "# GENERATE A CLASSIFICATION REPORT BASED ON THE CATEGORICAL Y_TEST VALUES\n",
    "# AND PREDICTIONS\n",
    "\n",
    "# WE USE PREDICTIONS.ROUND() BECAUSE OF THE RESULT SHOWN IN THE ABOVE CELL\n",
    "\n",
    "print(classification_report(y_cat_test, predictions.round()))"
   ]
  },
  {
   "cell_type": "code",
   "execution_count": 17,
   "id": "9d8b5c30",
   "metadata": {},
   "outputs": [
    {
     "data": {
      "text/plain": [
       "4"
      ]
     },
     "execution_count": 17,
     "metadata": {},
     "output_type": "execute_result"
    }
   ],
   "source": [
    "# WHAT IS THE PREDICTION IN THE 19TH INDEX?\n",
    "# 4\n",
    "\n",
    "np.argmax(predictions[19])"
   ]
  },
  {
   "cell_type": "code",
   "execution_count": 18,
   "id": "e88f3176",
   "metadata": {},
   "outputs": [
    {
     "data": {
      "text/plain": [
       "<matplotlib.image.AxesImage at 0x1e782976310>"
      ]
     },
     "execution_count": 18,
     "metadata": {},
     "output_type": "execute_result"
    },
    {
     "data": {
      "image/png": "[encoded data removed]",
      "text/plain": [
       "<Figure size 432x288 with 1 Axes>"
      ]
     },
     "metadata": {
      "needs_background": "light"
     },
     "output_type": "display_data"
    }
   ],
   "source": [
    "# VERIFY IF THE PREDICTED VALUE IS CORRECT BY VISUALIZING IT\n",
    "# 4\n",
    "\n",
    "plt.imshow(x_test[19], cmap = \"gray\")"
   ]
  }
 ],
 "metadata": {
  "kernelspec": {
   "display_name": "Python 3 (ipykernel)",
   "language": "python",
   "name": "python3"
  },
  "language_info": {
   "codemirror_mode": {
    "name": "ipython",
    "version": 3
   },
   "file_extension": ".py",
   "mimetype": "text/x-python",
   "name": "python",
   "nbconvert_exporter": "python",
   "pygments_lexer": "ipython3",
   "version": "3.9.12"
  }
 },
 "nbformat": 4,
 "nbformat_minor": 5
}
